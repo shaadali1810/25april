{
 "cells": [
  {
   "cell_type": "code",
   "execution_count": 1,
   "id": "219d4e62-5f69-4276-bcb2-f5ef6820d790",
   "metadata": {},
   "outputs": [],
   "source": [
    "#1Eigenvalues are the special set of scalar values that is associated with the set of linear equations most probably in the matrix equations. The eigenvectors are also termed as characteristic roots. It is a non-zero vector that can be changed at most by its scalar factor after the application of linear transformations."
   ]
  },
  {
   "cell_type": "code",
   "execution_count": 2,
   "id": "c6a9adb6-4c70-4f06-93b7-0f8d1717015c",
   "metadata": {},
   "outputs": [],
   "source": [
    "#2In linear algebra, eigendecomposition is the factorization of a matrix into a canonical form, whereby the matrix is represented in terms of its eigenvalues and eigenvectors. Only diagonalizable matrices can be factorized in this way."
   ]
  },
  {
   "cell_type": "code",
   "execution_count": 3,
   "id": "88922ef2-2ce2-4c81-b5de-4bdf32263455",
   "metadata": {},
   "outputs": [],
   "source": [
    "#3A matrix is diagonalizable if, and only if, the algebraic mutiplicity of each eigenvalue is equal to its geometric multiplicity. When is a matrix diagonalisable? A n square matrix A with n linearly independent eigen vectors is similar as a diagonal matrix D."
   ]
  },
  {
   "cell_type": "code",
   "execution_count": 4,
   "id": "0f611726-0d23-4ed7-83b0-5b03d2a585cf",
   "metadata": {},
   "outputs": [],
   "source": [
    "#4The spectral theorem also provides a canonical decomposition, called the spectral decomposition, of the underlying vector space on which the operator acts. Augustin-Louis Cauchy proved the spectral theorem for symmetric matrices, i.e., that every real, symmetric matrix is diagonalizable."
   ]
  },
  {
   "cell_type": "code",
   "execution_count": 5,
   "id": "1f25edf2-b86c-4269-a539-db9a1aa08abd",
   "metadata": {},
   "outputs": [
    {
     "data": {
      "text/plain": [
       "'In order to find the eigenvalues of a matrix, follow the steps below:\\nStep 1: Make sure the given matrix A is a square matrix. Also, determine the identity matrix I of the same order.\\nStep 2: Estimate the matrix A – λI, where λ is a scalar quantity.\\nStep 3: Find the determinant of matrix A – λI and equate it to zero.'"
      ]
     },
     "execution_count": 5,
     "metadata": {},
     "output_type": "execute_result"
    }
   ],
   "source": [
    "#5\n",
    "'''In order to find the eigenvalues of a matrix, follow the steps below:\n",
    "Step 1: Make sure the given matrix A is a square matrix. Also, determine the identity matrix I of the same order.\n",
    "Step 2: Estimate the matrix A – λI, where λ is a scalar quantity.\n",
    "Step 3: Find the determinant of matrix A – λI and equate it to zero.'''"
   ]
  },
  {
   "cell_type": "code",
   "execution_count": 6,
   "id": "43134f0b-f9e3-4950-8599-3e7d4da55836",
   "metadata": {},
   "outputs": [],
   "source": [
    "#6Eigenvalues are the special set of scalar values that is associated with the set of linear equations most probably in the matrix equations. The eigenvectors are also termed as characteristic roots. It is a non-zero vector that can be changed at most by its scalar factor after the application of linear transformations."
   ]
  },
  {
   "cell_type": "code",
   "execution_count": 7,
   "id": "d88e574c-b8bf-41c8-ac2b-b7c75a84ea37",
   "metadata": {},
   "outputs": [],
   "source": [
    "#7found that the possible eigenvalues are (a) 1 and (b)−1. Geometrically this means that in the direction associated to each of these values the transformation (a) leaves the vector as it is and (b) multiplies it by −1, which means it reflects it through the origin."
   ]
  },
  {
   "cell_type": "code",
   "execution_count": 8,
   "id": "10d9db5f-9eec-4491-bd98-1b7f4c8d2522",
   "metadata": {},
   "outputs": [],
   "source": [
    "#8Applications of Eigenvalue Decomposition include uses in machine learning, data science, physics, signal processing, and structural engineering."
   ]
  },
  {
   "cell_type": "code",
   "execution_count": 9,
   "id": "2111cd6f-d2eb-45b4-99a6-ecd731e5839f",
   "metadata": {},
   "outputs": [],
   "source": [
    "#9Since a nonzero subspace is infinite, every eigenvalue has infinitely many eigenvectors. (For example, multiplying an eigenvector by a nonzero scalar gives another eigenvector.) On the other hand, there can be at most n linearly independent eigenvectors of an n × n matrix, since R n has dimension n ."
   ]
  },
  {
   "cell_type": "code",
   "execution_count": 10,
   "id": "c2e9ab63-d1d3-4c11-b34a-0a5c268c93c5",
   "metadata": {},
   "outputs": [],
   "source": [
    "#10Eigendecomposition provides us with a tool to decompose a matrix by discovering the eigenvalues and the eigenvectors. This operation can prove useful since it allows certain matrix operations to be easier to perform and it also tells us important facts about the matrix itself."
   ]
  },
  {
   "cell_type": "code",
   "execution_count": null,
   "id": "7afa5c27-510f-4850-843d-1f827e23ff02",
   "metadata": {},
   "outputs": [],
   "source": []
  }
 ],
 "metadata": {
  "kernelspec": {
   "display_name": "Python 3 (ipykernel)",
   "language": "python",
   "name": "python3"
  },
  "language_info": {
   "codemirror_mode": {
    "name": "ipython",
    "version": 3
   },
   "file_extension": ".py",
   "mimetype": "text/x-python",
   "name": "python",
   "nbconvert_exporter": "python",
   "pygments_lexer": "ipython3",
   "version": "3.10.8"
  }
 },
 "nbformat": 4,
 "nbformat_minor": 5
}
